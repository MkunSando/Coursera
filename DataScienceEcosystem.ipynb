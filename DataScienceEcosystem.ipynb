{
 "cells": [
  {
   "cell_type": "markdown",
   "id": "70553a57-6a54-4917-831f-87bb48822c50",
   "metadata": {},
   "source": [
    "# Data Science Tools and Ecosystem"
   ]
  },
  {
   "cell_type": "markdown",
   "id": "f58cb2f5-1ff3-4cc9-bb1d-040ef98f83df",
   "metadata": {},
   "source": [
    "In this notebook, Data Science Tools and Ecosystem are summarized."
   ]
  },
  {
   "cell_type": "markdown",
   "id": "8d4c2c76-079c-413d-98d4-c7e322ae8cd9",
   "metadata": {
    "tags": []
   },
   "source": [
    "# **Objectives**\n",
    "\n",
    "    * Python\n",
    "    * R\n",
    "    * Java\n",
    "    * Julia\n",
    "    * Scala\n"
   ]
  },
  {
   "cell_type": "markdown",
   "id": "9ad2a6b0-b7a1-4d1c-bd9a-c5957137b203",
   "metadata": {},
   "source": [
    "Some of the popular languages that Data Scientists use are:<br>\n",
    "    1. Phyton <br>\n",
    "    2. R <br>\n",
    "    3. SQL <br>"
   ]
  },
  {
   "cell_type": "markdown",
   "id": "ed249569-e0a4-436a-9262-b8cef9fe5f8b",
   "metadata": {},
   "source": [
    "Some of the commonly used libraries used by Data Scientists include:<br>\n",
    "    1. Pandas<br>\n",
    "    2. Numpy<br>\n",
    "    3. SciKit-learn<br>"
   ]
  },
  {
   "cell_type": "markdown",
   "id": "2d85afc1-0206-4a7b-9529-8c906edc372e",
   "metadata": {
    "tags": []
   },
   "source": [
    "| Data Science Tools |\n",
    "| --- |\n",
    "| Jupyter Notebook |\n",
    "| RStudion |\n",
    "| VS Code |"
   ]
  },
  {
   "cell_type": "markdown",
   "id": "a0df9d46-30de-4129-b138-a9aae8bb09fd",
   "metadata": {},
   "source": [
    "### Below are a few examples of evaluating arithmetic expressions in Python."
   ]
  },
  {
   "cell_type": "code",
   "execution_count": 4,
   "id": "6dd3597c-e56e-4c7c-a09a-9b18fa5f4192",
   "metadata": {
    "tags": []
   },
   "outputs": [
    {
     "data": {
      "text/plain": [
       "17"
      ]
     },
     "execution_count": 4,
     "metadata": {},
     "output_type": "execute_result"
    }
   ],
   "source": [
    "# This a simple arithmetic expression to mutiply then add integers.\n",
    "\n",
    "(3*4)+5"
   ]
  },
  {
   "cell_type": "code",
   "execution_count": 13,
   "id": "a0778d00-901c-4c18-aa41-733d9461dd9b",
   "metadata": {
    "tags": []
   },
   "outputs": [
    {
     "data": {
      "text/plain": [
       "3.3333333333333335"
      ]
     },
     "execution_count": 13,
     "metadata": {},
     "output_type": "execute_result"
    }
   ],
   "source": [
    "# This will convert 200 minutes to hours by diving by 60.\n",
    "200/60\n"
   ]
  },
  {
   "cell_type": "markdown",
   "id": "2a53f7b5-c844-497f-a0dd-dbfee2e32557",
   "metadata": {},
   "source": [
    "## Author \n",
    "Matic"
   ]
  },
  {
   "cell_type": "code",
   "execution_count": null,
   "id": "612182f1-6ab9-466e-8c34-a807d10219cc",
   "metadata": {
    "jupyter": {
     "source_hidden": true
    },
    "tags": []
   },
   "outputs": [],
   "source": []
  }
 ],
 "metadata": {
  "kernelspec": {
   "display_name": "Python",
   "language": "python",
   "name": "conda-env-python-py"
  },
  "language_info": {
   "codemirror_mode": {
    "name": "ipython",
    "version": 3
   },
   "file_extension": ".py",
   "mimetype": "text/x-python",
   "name": "python",
   "nbconvert_exporter": "python",
   "pygments_lexer": "ipython3",
   "version": "3.7.12"
  }
 },
 "nbformat": 4,
 "nbformat_minor": 5
}
